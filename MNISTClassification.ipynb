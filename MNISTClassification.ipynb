{
 "cells": [
  {
   "cell_type": "code",
   "execution_count": 2,
   "id": "ba5f49d1-caf2-4872-8ab7-c13cf83d1b29",
   "metadata": {},
   "outputs": [
    {
     "name": "stdout",
     "output_type": "stream",
     "text": [
      "Requirement already satisfied: numpy in /opt/anaconda3/lib/python3.12/site-packages (1.26.4)\n",
      "Requirement already satisfied: pandas in /opt/anaconda3/lib/python3.12/site-packages (2.2.2)\n",
      "Requirement already satisfied: matplotlib in /opt/anaconda3/lib/python3.12/site-packages (3.9.2)\n",
      "Requirement already satisfied: scikit-learn in /opt/anaconda3/lib/python3.12/site-packages (1.5.1)\n",
      "Requirement already satisfied: python-dateutil>=2.8.2 in /opt/anaconda3/lib/python3.12/site-packages (from pandas) (2.9.0.post0)\n",
      "Requirement already satisfied: pytz>=2020.1 in /opt/anaconda3/lib/python3.12/site-packages (from pandas) (2024.1)\n",
      "Requirement already satisfied: tzdata>=2022.7 in /opt/anaconda3/lib/python3.12/site-packages (from pandas) (2023.3)\n",
      "Requirement already satisfied: contourpy>=1.0.1 in /opt/anaconda3/lib/python3.12/site-packages (from matplotlib) (1.2.0)\n",
      "Requirement already satisfied: cycler>=0.10 in /opt/anaconda3/lib/python3.12/site-packages (from matplotlib) (0.11.0)\n",
      "Requirement already satisfied: fonttools>=4.22.0 in /opt/anaconda3/lib/python3.12/site-packages (from matplotlib) (4.51.0)\n",
      "Requirement already satisfied: kiwisolver>=1.3.1 in /opt/anaconda3/lib/python3.12/site-packages (from matplotlib) (1.4.4)\n",
      "Requirement already satisfied: packaging>=20.0 in /opt/anaconda3/lib/python3.12/site-packages (from matplotlib) (24.1)\n",
      "Requirement already satisfied: pillow>=8 in /opt/anaconda3/lib/python3.12/site-packages (from matplotlib) (10.4.0)\n",
      "Requirement already satisfied: pyparsing>=2.3.1 in /opt/anaconda3/lib/python3.12/site-packages (from matplotlib) (3.1.2)\n",
      "Requirement already satisfied: scipy>=1.6.0 in /opt/anaconda3/lib/python3.12/site-packages (from scikit-learn) (1.13.1)\n",
      "Requirement already satisfied: joblib>=1.2.0 in /opt/anaconda3/lib/python3.12/site-packages (from scikit-learn) (1.4.2)\n",
      "Requirement already satisfied: threadpoolctl>=3.1.0 in /opt/anaconda3/lib/python3.12/site-packages (from scikit-learn) (3.5.0)\n",
      "Requirement already satisfied: six>=1.5 in /opt/anaconda3/lib/python3.12/site-packages (from python-dateutil>=2.8.2->pandas) (1.16.0)\n",
      "\n",
      "\u001b[1m[\u001b[0m\u001b[34;49mnotice\u001b[0m\u001b[1;39;49m]\u001b[0m\u001b[39;49m A new release of pip is available: \u001b[0m\u001b[31;49m25.0\u001b[0m\u001b[39;49m -> \u001b[0m\u001b[32;49m25.0.1\u001b[0m\n",
      "\u001b[1m[\u001b[0m\u001b[34;49mnotice\u001b[0m\u001b[1;39;49m]\u001b[0m\u001b[39;49m To update, run: \u001b[0m\u001b[32;49mpip install --upgrade pip\u001b[0m\n",
      "Note: you may need to restart the kernel to use updated packages.\n"
     ]
    }
   ],
   "source": [
    "pip install numpy pandas matplotlib scikit-learn\n"
   ]
  },
  {
   "cell_type": "code",
   "execution_count": 30,
   "id": "8fed9cbe-fd29-4d65-adbd-dd224a2aecb5",
   "metadata": {},
   "outputs": [
    {
     "name": "stdout",
     "output_type": "stream",
     "text": [
      "Training Set: (60000, 28, 28), Labels: (60000,)\n",
      "Test Set: (10000, 28, 28), Labels: (10000,)\n"
     ]
    },
    {
     "data": {
      "image/png": "[encoded data removed]",
      "text/plain": [
       "<Figure size 1000x500 with 6 Axes>"
      ]
     },
     "metadata": {},
     "output_type": "display_data"
    }
   ],
   "source": [
    "import numpy as np\n",
    "import struct\n",
    "import os\n",
    "import time\n",
    "import psutil\n",
    "import matplotlib.pyplot as plt\n",
    "from sklearn.model_selection import train_test_split\n",
    "from sklearn.neighbors import KNeighborsClassifier\n",
    "\n",
    "\n",
    "data_path = \"./\"  \n",
    "\n",
    "# Function to read IDX files\n",
    "def load_idx(filepath):\n",
    "    with open(filepath, 'rb') as f:\n",
    "        magic, size = struct.unpack(\">II\", f.read(8))  # Read header\n",
    "        if magic == 2051:  # Image file\n",
    "            rows, cols = struct.unpack(\">II\", f.read(8))\n",
    "            data = np.frombuffer(f.read(), dtype=np.uint8).reshape(size, rows, cols)\n",
    "        elif magic == 2049:  # Label file\n",
    "            data = np.frombuffer(f.read(), dtype=np.uint8)\n",
    "        else:\n",
    "            raise ValueError(\"Invalid IDX file\")\n",
    "    return data\n",
    "\n",
    "# Load the MNIST dataset from IDX files\n",
    "X_train = load_idx(os.path.join(data_path, \"train-images.idx3-ubyte\"))\n",
    "y_train = load_idx(os.path.join(data_path, \"train-labels.idx1-ubyte\"))\n",
    "X_test = load_idx(os.path.join(data_path, \"t10k-images.idx3-ubyte\"))\n",
    "y_test = load_idx(os.path.join(data_path, \"t10k-labels.idx1-ubyte\"))\n",
    "\n",
    "# Print dataset info\n",
    "print(f\"Training Set: {X_train.shape}, Labels: {y_train.shape}\")\n",
    "print(f\"Test Set: {X_test.shape}, Labels: {y_test.shape}\")\n",
    "\n",
    "# Display some images \n",
    "fig, axes = plt.subplots(1, 6, figsize=(10, 5))\n",
    "for i, ax in enumerate(axes):\n",
    "    ax.imshow(X_train[i], cmap='gray')\n",
    "    ax.set_title(f\"Label: {y_train[i]}\")\n",
    "    ax.axis(\"off\")\n",
    "plt.show()\n"
   ]
  },
  {
   "cell_type": "code",
   "execution_count": 32,
   "id": "a6068fbb-bc37-4368-8c58-b4d242b68baf",
   "metadata": {},
   "outputs": [
    {
     "name": "stdout",
     "output_type": "stream",
     "text": [
      "Filtered Training Set: (36937, 784), Labels: (36937,)\n",
      "Filtered Test Set: (6143, 784), Labels: (6143,)\n"
     ]
    }
   ],
   "source": [
    "# Select only the assigned digits\n",
    "selected_digits = [0, 1, 2, 3, 6, 7]\n",
    "mask_train = np.isin(y_train, selected_digits)\n",
    "mask_test = np.isin(y_test, selected_digits)\n",
    "\n",
    "X_train, y_train = X_train[mask_train], y_train[mask_train]\n",
    "X_test, y_test = X_test[mask_test], y_test[mask_test]\n",
    "\n",
    "# Flatten images (convert 28x28 to 784 pixels)\n",
    "X_train = X_train.reshape(X_train.shape[0], -1) / 255.0  # Normalize pixel values\n",
    "X_test = X_test.reshape(X_test.shape[0], -1) / 255.0      # Normalize pixel values\n",
    "\n",
    "# Print filtered dataset info\n",
    "print(f\"Filtered Training Set: {X_train.shape}, Labels: {y_train.shape}\")\n",
    "print(f\"Filtered Test Set: {X_test.shape}, Labels: {y_test.shape}\")\n"
   ]
  },
  {
   "cell_type": "code",
   "execution_count": 34,
   "id": "0b69c7d2-838a-40fe-9b45-3f36bfb62508",
   "metadata": {},
   "outputs": [
    {
     "name": "stdout",
     "output_type": "stream",
     "text": [
      "Training Time for 1000 samples: 0.0031 seconds\n",
      "Testing Time for 100 samples: 0.0068 seconds\n",
      "Current RAM Usage: 76.7%\n",
      "Estimated Training Time for full dataset: 0.11 seconds\n",
      "Estimated Testing Time for full dataset: 2.49 seconds\n"
     ]
    }
   ],
   "source": [
    "#Question-2\n",
    "\n",
    "# Small Sample Test (1000 samples)\n",
    "small_sample_size = 1000\n",
    "X_sample, _, y_sample, _ = train_test_split(X_train, y_train, train_size=small_sample_size, stratify=y_train, random_state=42)\n",
    "\n",
    "# k-NN Classification Test (k=20)\n",
    "knn = KNeighborsClassifier(n_neighbors=20, metric='euclidean')\n",
    "\n",
    "# Measure Training Time\n",
    "start_time = time.time()\n",
    "knn.fit(X_sample, y_sample)  # Train k-NN\n",
    "train_time = time.time() - start_time\n",
    "\n",
    "# Measure Testing Time on 100 samples\n",
    "start_time = time.time()\n",
    "knn.predict(X_sample[:100])  # Predict on 100 samples\n",
    "test_time = time.time() - start_time\n",
    "\n",
    "# Check Memory Usage\n",
    "memory_usage = psutil.virtual_memory().percent\n",
    "\n",
    "# Print results\n",
    "print(f\"Training Time for {small_sample_size} samples: {train_time:.4f} seconds\")\n",
    "print(f\"Testing Time for 100 samples: {test_time:.4f} seconds\")\n",
    "print(f\"Current RAM Usage: {memory_usage}%\")\n",
    "\n",
    "# Estimate Time for Full Training Set\n",
    "full_size = len(X_train)\n",
    "estimated_train_time = (train_time / small_sample_size) * full_size\n",
    "estimated_test_time = (test_time / 100) * full_size\n",
    "\n",
    "print(f\"Estimated Training Time for full dataset: {estimated_train_time:.2f} seconds\")\n",
    "print(f\"Estimated Testing Time for full dataset: {estimated_test_time:.2f} seconds\")\n"
   ]
  },
  {
   "cell_type": "code",
   "execution_count": 36,
   "id": "fae8c954-76c1-4f49-b2fb-178b0d5084e3",
   "metadata": {},
   "outputs": [
    {
     "name": "stdout",
     "output_type": "stream",
     "text": [
      "\n",
      " Training with N = 1000 samples per class\n",
      " Accuracy for N=1000: 0.9118\n",
      "\n",
      " Training with N = 2000 samples per class\n",
      " Accuracy for N=2000: 0.9378\n",
      "\n",
      " Training with N = 3000 samples per class\n",
      " Accuracy for N=3000: 0.9437\n",
      "\n",
      " Training with N = 4000 samples per class\n",
      " Accuracy for N=4000: 0.9500\n",
      "\n",
      " Training with N = 5000 samples per class\n",
      " Accuracy for N=5000: 0.9530\n",
      "\n",
      " Training with N = 6000 samples per class\n",
      " Accuracy for N=6000: 0.9556\n"
     ]
    },
    {
     "data": {
      "image/png": "[encoded data removed]",
      "text/plain": [
       "<Figure size 800x500 with 1 Axes>"
      ]
     },
     "metadata": {},
     "output_type": "display_data"
    },
    {
     "name": "stdout",
     "output_type": "stream",
     "text": [
      "\n",
      " Optimal Training Size (N) = 6000\n"
     ]
    }
   ],
   "source": [
    "# Question-3\n",
    "\n",
    "import numpy as np\n",
    "import matplotlib.pyplot as plt\n",
    "from sklearn.model_selection import train_test_split\n",
    "from sklearn.neighbors import KNeighborsClassifier\n",
    "from sklearn.metrics import accuracy_score\n",
    "\n",
    "# Define training sizes (N values from 1000 to 6000)\n",
    "training_sizes = [1000, 2000, 3000, 4000, 5000, 6000]\n",
    "test_size = 7000  # Total available per digit class\n",
    "\n",
    "accuracy_results = []  # To store accuracy for each N\n",
    "\n",
    "for N in training_sizes:\n",
    "    print(f\"\\n Training with N = {N} samples per class\")\n",
    "\n",
    "    # Split dataset for training/testing with current N\n",
    "    X_train_N, _, y_train_N, _ = train_test_split(X_train, y_train, train_size=N / len(X_train), stratify=y_train, random_state=42)\n",
    "\n",
    "    # Train k-NN Classifier (k=20, Euclidean distance)\n",
    "    knn = KNeighborsClassifier(n_neighbors=20, metric='euclidean')\n",
    "    knn.fit(X_train_N, y_train_N)\n",
    "\n",
    "    # Test on full test set\n",
    "    y_pred = knn.predict(X_test)\n",
    "\n",
    "    # Compute Accuracy\n",
    "    accuracy = accuracy_score(y_test, y_pred)\n",
    "    accuracy_results.append(accuracy)\n",
    "\n",
    "    print(f\" Accuracy for N={N}: {accuracy:.4f}\")\n",
    "\n",
    "# Plot Accuracy vs. Training Size (N)\n",
    "plt.figure(figsize=(8, 5))\n",
    "plt.plot(training_sizes, accuracy_results, marker='o', linestyle='-')\n",
    "plt.xlabel(\"Training Set Size (N)\")\n",
    "plt.ylabel(\"Classification Accuracy\")\n",
    "plt.title(\"Impact of Training Size on k-NN Accuracy\")\n",
    "plt.grid(True)\n",
    "plt.show()\n",
    "\n",
    "# Find optimal N (where accuracy plateaus)\n",
    "optimal_N = training_sizes[np.argmax(accuracy_results)]\n",
    "print(f\"\\n Optimal Training Size (N) = {optimal_N}\")\n"
   ]
  },
  {
   "cell_type": "code",
   "execution_count": 38,
   "id": "83f40f17-88fc-46ab-b9e4-a19e6c439b65",
   "metadata": {},
   "outputs": [
    {
     "name": "stdout",
     "output_type": "stream",
     "text": [
      " Accuracy with Stratified Sampling: 0.9556\n"
     ]
    }
   ],
   "source": [
    "import numpy as np\n",
    "import matplotlib.pyplot as plt\n",
    "from sklearn.model_selection import StratifiedShuffleSplit\n",
    "from sklearn.neighbors import KNeighborsClassifier\n",
    "from sklearn.metrics import accuracy_score\n",
    "\n",
    "# Define optimal training size (N = 6000)\n",
    "optimal_N = 6000\n",
    "\n",
    "# Stratified Sampling Split\n",
    "sss = StratifiedShuffleSplit(n_splits=1, train_size=optimal_N / len(X_train), random_state=42)\n",
    "\n",
    "for train_index, _ in sss.split(X_train, y_train):\n",
    "    X_train_strat = X_train[train_index]\n",
    "    y_train_strat = y_train[train_index]\n",
    "\n",
    "# Train k-NN Classifier using Stratified Sampling\n",
    "knn_strat = KNeighborsClassifier(n_neighbors=20, metric='euclidean')\n",
    "knn_strat.fit(X_train_strat, y_train_strat)\n",
    "\n",
    "# Test on full test set\n",
    "y_pred_strat = knn_strat.predict(X_test)\n",
    "\n",
    "# Compute Accuracy\n",
    "accuracy_strat = accuracy_score(y_test, y_pred_strat)\n",
    "\n",
    "print(f\" Accuracy with Stratified Sampling: {accuracy_strat:.4f}\")\n"
   ]
  },
  {
   "cell_type": "code",
   "execution_count": 40,
   "id": "608c9bca-e00f-4953-88da-956fc54b5318",
   "metadata": {},
   "outputs": [
    {
     "name": "stdout",
     "output_type": "stream",
     "text": [
      " Accuracy with Cluster-Based Selection: 0.9564\n"
     ]
    }
   ],
   "source": [
    "# Question-4\n",
    "\n",
    "from sklearn.cluster import KMeans\n",
    "\n",
    "# Define the number of clusters \n",
    "num_clusters = len(np.unique(y_train))  # Should be 6 (0,1,2,3,6,7)\n",
    "\n",
    "# Apply K-Means clustering on the training data\n",
    "kmeans = KMeans(n_clusters=num_clusters, random_state=42, n_init=10)\n",
    "cluster_labels = kmeans.fit_predict(X_train)\n",
    "\n",
    "# Select samples from each cluster to form training data\n",
    "selected_indices = []\n",
    "samples_per_cluster = optimal_N // num_clusters  # Distribute training samples across clusters\n",
    "\n",
    "for i in range(num_clusters):\n",
    "    cluster_indices = np.where(cluster_labels == i)[0]  # Get indices of current cluster\n",
    "    selected_indices.extend(cluster_indices[:samples_per_cluster])  # Take first N samples\n",
    "\n",
    "X_train_cluster = X_train[selected_indices]\n",
    "y_train_cluster = y_train[selected_indices]\n",
    "\n",
    "# Train k-NN Classifier using Cluster-Based Selection\n",
    "knn_cluster = KNeighborsClassifier(n_neighbors=20, metric='euclidean')\n",
    "knn_cluster.fit(X_train_cluster, y_train_cluster)\n",
    "\n",
    "# Test on full test set\n",
    "y_pred_cluster = knn_cluster.predict(X_test)\n",
    "\n",
    "# Compute Accuracy\n",
    "accuracy_cluster = accuracy_score(y_test, y_pred_cluster)\n",
    "\n",
    "print(f\" Accuracy with Cluster-Based Selection: {accuracy_cluster:.4f}\")\n"
   ]
  },
  {
   "cell_type": "code",
   "execution_count": 42,
   "id": "8fd84278-ef8c-4600-afa6-8ed4905c7839",
   "metadata": {},
   "outputs": [
    {
     "name": "stdout",
     "output_type": "stream",
     "text": [
      "\n",
      " Accuracy Comparison of Splitting Methods:\n",
      " Random Sampling Accuracy (Step 3): 0.9556\n",
      " Stratified Sampling Accuracy: 0.9556\n",
      "Cluster-Based Selection Accuracy: 0.9564\n",
      "\n",
      " Cluster-Based Selection gives the best accuracy!\n"
     ]
    }
   ],
   "source": [
    "# Accuracy from Step 3\n",
    "accuracy_random = 0.9556  # Random Sampling Accuracy from Step 3\n",
    "\n",
    "# Print Comparison\n",
    "print(\"\\n Accuracy Comparison of Splitting Methods:\")\n",
    "print(f\" Random Sampling Accuracy (Step 3): {accuracy_random:.4f}\")\n",
    "print(f\" Stratified Sampling Accuracy: {accuracy_strat:.4f}\")\n",
    "print(f\"Cluster-Based Selection Accuracy: {accuracy_cluster:.4f}\")\n",
    "\n",
    "# Conclusion\n",
    "best_method = max(accuracy_random, accuracy_strat, accuracy_cluster)\n",
    "\n",
    "if best_method == accuracy_strat:\n",
    "    print(\"\\n Stratified Sampling gives the best accuracy!\")\n",
    "elif best_method == accuracy_cluster:\n",
    "    print(\"\\n Cluster-Based Selection gives the best accuracy!\")\n",
    "else:\n",
    "    print(\"\\n Random Sampling is still the best method.\")\n"
   ]
  },
  {
   "cell_type": "code",
   "execution_count": 45,
   "id": "a642c8c8-7571-4309-8ceb-8935f6f87de2",
   "metadata": {},
   "outputs": [
    {
     "name": "stdout",
     "output_type": "stream",
     "text": [
      "\n",
      " Distance Metric Comparison:\n",
      " Euclidean Distance Accuracy: 0.9564\n",
      " Manhattan Distance Accuracy: 0.9481\n",
      "\n",
      " Euclidean Distance gives better accuracy!\n"
     ]
    }
   ],
   "source": [
    "from sklearn.metrics import accuracy_score\n",
    "\n",
    "# Train k-NN Classifier using Euclidean Distance (L2 norm)\n",
    "knn_euclidean = KNeighborsClassifier(n_neighbors=20, metric='euclidean')\n",
    "knn_euclidean.fit(X_train_cluster, y_train_cluster)\n",
    "y_pred_euclidean = knn_euclidean.predict(X_test)\n",
    "accuracy_euclidean = accuracy_score(y_test, y_pred_euclidean)\n",
    "\n",
    "# Train k-NN Classifier using Manhattan Distance (L1 norm)\n",
    "knn_manhattan = KNeighborsClassifier(n_neighbors=20, metric='manhattan')\n",
    "knn_manhattan.fit(X_train_cluster, y_train_cluster)\n",
    "y_pred_manhattan = knn_manhattan.predict(X_test)\n",
    "accuracy_manhattan = accuracy_score(y_test, y_pred_manhattan)\n",
    "\n",
    "# Print Accuracy Comparison\n",
    "print(\"\\n Distance Metric Comparison:\")\n",
    "print(f\" Euclidean Distance Accuracy: {accuracy_euclidean:.4f}\")\n",
    "print(f\" Manhattan Distance Accuracy: {accuracy_manhattan:.4f}\")\n",
    "\n",
    "# Conclusion\n",
    "if accuracy_euclidean > accuracy_manhattan:\n",
    "    print(\"\\n Euclidean Distance gives better accuracy!\")\n",
    "elif accuracy_manhattan > accuracy_euclidean:\n",
    "    print(\"\\n Manhattan Distance gives better accuracy!\")\n",
    "else:\n",
    "    print(\"\\n Both distance metrics give the same accuracy.\")\n"
   ]
  },
  {
   "cell_type": "code",
   "execution_count": 51,
   "id": "c1544c32-ebc5-4a46-8823-ec9e7d753739",
   "metadata": {},
   "outputs": [
    {
     "name": "stdout",
     "output_type": "stream",
     "text": [
      "\n",
      " Class-Wise Accuracy Report:\n",
      "              precision    recall  f1-score   support\n",
      "\n",
      "           0     0.9690    0.9878    0.9783       980\n",
      "           1     0.8918    0.9947    0.9404      1135\n",
      "           2     0.9880    0.8769    0.9292      1032\n",
      "           3     0.9888    0.9594    0.9739      1010\n",
      "           6     0.9760    0.9770    0.9765       958\n",
      "           7     0.9462    0.9416    0.9439      1028\n",
      "\n",
      "    accuracy                         0.9564      6143\n",
      "   macro avg     0.9600    0.9562    0.9570      6143\n",
      "weighted avg     0.9585    0.9564    0.9563      6143\n",
      "\n"
     ]
    },
    {
     "data": {
      "image/png": "[encoded data removed]",
      "text/plain": [
       "<Figure size 800x500 with 1 Axes>"
      ]
     },
     "metadata": {},
     "output_type": "display_data"
    },
    {
     "name": "stdout",
     "output_type": "stream",
     "text": [
      "\n",
      " The most misclassified digit is: 2\n"
     ]
    }
   ],
   "source": [
    "# Question-5\n",
    "\n",
    "import numpy as np\n",
    "import matplotlib.pyplot as plt\n",
    "from sklearn.metrics import classification_report, confusion_matrix\n",
    "\n",
    "# Compute Confusion Matrix\n",
    "conf_matrix = confusion_matrix(y_test, y_pred_euclidean)\n",
    "class_wise_accuracy = conf_matrix.diagonal() / conf_matrix.sum(axis=1)\n",
    "\n",
    "# Print Classification Report\n",
    "print(\"\\n Class-Wise Accuracy Report:\")\n",
    "print(classification_report(y_test, y_pred_euclidean, digits=4))\n",
    "\n",
    "# Plot Accuracy Per Class\n",
    "classes = [0, 1, 2, 3, 6, 7]  # Selected digits\n",
    "plt.figure(figsize=(8, 5))\n",
    "plt.bar(classes, class_wise_accuracy, color='skyblue')\n",
    "plt.xlabel(\"Digit Class\")\n",
    "plt.ylabel(\"Accuracy\")\n",
    "plt.title(\"Class-Wise Classification Accuracy (k-NN, Euclidean Distance)\")\n",
    "plt.xticks(classes)\n",
    "plt.ylim(0.85, 1)  # Set a lower limit for better visualization\n",
    "plt.grid(axis=\"y\", linestyle=\"--\", alpha=0.7)\n",
    "plt.show()\n",
    "\n",
    "# Identify Hardest Digit to Classify\n",
    "hardest_digit = classes[np.argmin(class_wise_accuracy)]\n",
    "print(f\"\\n The most misclassified digit is: {hardest_digit}\")\n"
   ]
  },
  {
   "cell_type": "code",
   "execution_count": null,
   "id": "bc9f0087-443d-4d52-8668-025b4336ab8b",
   "metadata": {},
   "outputs": [],
   "source": []
  },
  {
   "cell_type": "markdown",
   "id": "4fca58ec-7ba9-42f0-be9f-05689bffe26f",
   "metadata": {},
   "source": [
    "## **1. Introduction**\n",
    "The goal of this project is to analyze and classify handwritten digits from the MNIST dataset using the k-Nearest Neighbors (k-NN) algorithm. We examine the impact of different training set sizes, data splitting techniques, and distance metrics on classification accuracy. Additionally, we evaluate class-wise performance to identify the most challenging digits to classify.\n",
    "\n",
    "---\n",
    "\n",
    "## **2. Dataset & Preprocessing**\n",
    "- The dataset used is the **MNIST handwritten digits dataset**.\n",
    "- We focused on **six selected digits**: **0, 1, 2, 3, 6, 7**.\n",
    "- Data was extracted from IDX files, flattened from 28x28 images to **784-dimensional feature vectors**, and normalized for better performance.\n",
    "\n",
    "### **Filtered Dataset Sizes:**\n",
    "- **Training Set:** 36,937 samples\n",
    "- **Test Set:** 6,143 samples\n",
    "\n",
    "---\n",
    "\n",
    "## **3. Step 2 - Computational Cost Estimation**\n",
    "To determine computational feasibility:\n",
    "- Training time for **1000 samples**: **0.0023 sec**\n",
    "- Testing time for **100 samples**: **0.0624 sec**\n",
    "- **Estimated Full Training Time:** **0.08 sec**\n",
    "- **Estimated Full Testing Time:** **23.05 sec**\n",
    "- RAM Usage: **75.3%**\n",
    "\n",
    "**Conclusion:** The dataset is manageable within available computational resources.\n",
    "\n",
    "---\n",
    "\n",
    "## **4. Step 3 - Effect of Training Size on Accuracy**\n",
    "We trained k-NN (k=20) on different **training set sizes (N)** to find an optimal `N`.\n",
    "\n",
    "| Training Size (N) | Accuracy (%) |\n",
    "|------------------|-------------|\n",
    "| 1000            | 91.18       |\n",
    "| 2000            | 93.78       |\n",
    "| 3000            | 94.37       |\n",
    "| 4000            | 95.00       |\n",
    "| 5000            | 95.30       |\n",
    "| **6000**        | **95.56**   |\n",
    "\n",
    "**Optimal Training Size:** **6000 samples** (accuracy stabilizes here).\n",
    "\n",
    "---\n",
    "\n",
    "## **5. Step 4 - Data Splitting Methods**\n",
    "Three methods were tested:\n",
    "- **Random Sampling (Step 3)** → **Accuracy: 95.56%**\n",
    "- **Stratified Sampling (Balanced Split)** → **Accuracy: 95.56%**\n",
    "- **Cluster-Based Selection (K-Means on digit groups)** → **Accuracy: 95.64%**\n",
    "\n",
    "**Conclusion:** **Cluster-Based Selection performed best.**\n",
    "\n",
    "---\n",
    "\n",
    "## **6. Step 5 - Distance Metric Comparison**\n",
    "To analyze the impact of distance metrics, we tested:\n",
    "- **Euclidean Distance (L2 norm)** → **Accuracy: 95.64%** \n",
    "- **Manhattan Distance (L1 norm)** → **Accuracy: 94.81%**\n",
    "\n",
    "**Conclusion:** Euclidean Distance provides **better classification performance**.\n",
    "\n",
    "---\n",
    "\n",
    "## **7. Step 6 - Class-Wise Performance Analysis**\n",
    "- **Overall Accuracy:** **95.64%**\n",
    "- **Most Misclassified Digit:** **2 (87.69% recall)**\n",
    "\n",
    "| Digit | Precision | Recall  | F1-Score |\n",
    "|-------|----------|---------|----------|\n",
    "| 0     | 96.90%   | 98.78%  | 97.83%   |\n",
    "| 1     | 89.18%   | 99.47%  | 94.04%   |\n",
    "| 2     | 98.80%   | 87.69%  | 92.92%   |\n",
    "| 3     | 98.88%   | 95.94%  | 97.39%   |\n",
    "| 6     | 97.60%   | 97.70%  | 97.65%   |\n",
    "| 7     | 94.62%   | 94.16%  | 94.39%   |\n",
    "\n",
    "**Observation:** The digit **'2' was the hardest to classify**, likely due to similarity with other curved digits.\n",
    "\n",
    "---\n",
    "\n",
    "## **8. Conclusion & Recommendations**\n",
    "### **Best Model Configuration:**\n",
    "- **Training Size:** **6000 samples**\n",
    "- **Data Splitting Method:** **Cluster-Based Selection**\n",
    "- **Distance Metric:** **Euclidean Distance**\n",
    "- **Best Accuracy Achieved:** **95.64%**\n",
    "\n",
    "\n",
    "## References**\n",
    "- Yann LeCun et al., **The MNIST Database**\n",
    "- Scikit-Learn Documentation, **k-NN Classifier**\n",
    "\n"
   ]
  },
  {
   "cell_type": "code",
   "execution_count": null,
   "id": "f0988248-d2f1-4fe7-bc35-82e7b9cb3d72",
   "metadata": {},
   "outputs": [],
   "source": []
  }
 ],
 "metadata": {
  "kernelspec": {
   "display_name": "Python 3 (ipykernel)",
   "language": "python",
   "name": "python3"
  },
  "language_info": {
   "codemirror_mode": {
    "name": "ipython",
    "version": 3
   },
   "file_extension": ".py",
   "mimetype": "text/x-python",
   "name": "python",
   "nbconvert_exporter": "python",
   "pygments_lexer": "ipython3",
   "version": "3.12.7"
  }
 },
 "nbformat": 4,
 "nbformat_minor": 5
}
